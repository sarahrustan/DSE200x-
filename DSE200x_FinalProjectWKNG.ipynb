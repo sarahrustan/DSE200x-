{
 "cells": [
  {
   "cell_type": "markdown",
   "metadata": {},
   "source": [
    "\n",
    "UCSanDiegoX: DSE200x Python for Data Science"
   ]
  },
  {
   "cell_type": "markdown",
   "metadata": {},
   "source": [
    "# Final Project: Predictors of Attitudes towards Opioids (WORKING)"
   ]
  },
  {
   "cell_type": "markdown",
   "metadata": {},
   "source": [
    "### Objective: To identify clusters of demographic and experiential variables that are associated with attitudes towards opioids.\n",
    "\n",
    "### Method: Combine data from mutiple sources to create a variable identifying each survey response geography as urban, suburban, or rural. Conduct k-modes cluster analysis to determine whether there are clusters of demographic and experiential variables associated with attitudes towards opioids, including urban, suburban or rural geography."
   ]
  },
  {
   "cell_type": "markdown",
   "metadata": {},
   "source": [
    "Datasources:\n",
    "1. Proprietary survey, n = 1,200\n",
    "    \n",
    "    - Geographic: _VGeoRegion_ (String): State; _Vpostal_ (String): Zip code\n",
    "    - Demographic/Experiential: var9, var11, var12, var13, educrec, incomerec, var16, politrec, var217\n",
    "    - Attitudinal:  var230, var231, var232, var233, var234, var235, var236, var237rec, var238rec, var239rec, var240rec, var241rec, var242rec, var243rec, var244rec, var245rec, var246, var247rec var248rec, var249rec, var250rec, var251rec, var252rec, var253rec, var254rec, var255rec\n",
    "    \n",
    "\n",
    "2. 2015 ZIP Code Tabulation Areas Gazetteer File, n = 33,144 \n",
    "https://www.census.gov/geo/maps-data/data/gazetteer2015.html\n",
    "\n",
    "    - _GEOID_: Five digit ZIP Code Tabulation Area Census Code; *ALAND_SQMI*: Land Area (square miles)\n",
    "    \n",
    "\n",
    "3. B25001 HOUSING UNITS by ZCTA, 2012-2016 American Community Survey 5-Year Estimates, n = 33,120 https://factfinder.census.gov/faces/tableservices/jsf/pages/productview.xhtml?pid=ACS_16_5YR_B25001&prodType=table\n",
    "\n",
    "    - _GEO.id2_: Five digit ZIP Code Tabulation Area Census Code; *HD01_VD01*: Housing Units, Estimated\n"
   ]
  },
  {
   "cell_type": "markdown",
   "metadata": {},
   "source": [
    "### Identify each Zip Code Tabulation Area as Urban, Suburban, or Rural based on housing density"
   ]
  },
  {
   "cell_type": "markdown",
   "metadata": {},
   "source": [
    "ZCTA housing density = Number of housing units in ZCTA/Square miles in ZCTA"
   ]
  },
  {
   "cell_type": "markdown",
   "metadata": {},
   "source": [
    "Values:\n",
    "0. Urban: >2,213 households per square mile; \n",
    "1. Suburban: 102 to 2,213 households per square mile; \n",
    "2. Rural: <102 households per square mile\n",
    "\n",
    "Source: https://fivethirtyeight.com/features/how-suburban-are-big-american-cities/"
   ]
  },
  {
   "cell_type": "code",
   "execution_count": 1,
   "metadata": {},
   "outputs": [],
   "source": [
    "import pandas as pd\n",
    "import numpy as np"
   ]
  },
  {
   "cell_type": "code",
   "execution_count": null,
   "metadata": {},
   "outputs": [],
   "source": [
    "# Read in Opioids survey dataset\n",
    "df_opioids = pd.read_csv('OpioidsWKNG.csv')"
   ]
  },
  {
   "cell_type": "code",
   "execution_count": null,
   "metadata": {},
   "outputs": [],
   "source": [
    "df_opioids.head()"
   ]
  },
  {
   "cell_type": "code",
   "execution_count": null,
   "metadata": {},
   "outputs": [],
   "source": [
    "# Check zip code frequencies\n",
    "df_opioids.Vpostal.value_counts()"
   ]
  },
  {
   "cell_type": "code",
   "execution_count": null,
   "metadata": {},
   "outputs": [],
   "source": [
    "# Display rows with one or more null values\n",
    "df_opioids[df_opioids.isnull().any(axis=1)]"
   ]
  },
  {
   "cell_type": "code",
   "execution_count": null,
   "metadata": {},
   "outputs": [],
   "source": [
    "# Replace missing values ' ' in Vpostal with missing values np.nan objects\n",
    "df_opioids['Vpostal'].replace(' ', np.nan, inplace=True)"
   ]
  },
  {
   "cell_type": "code",
   "execution_count": null,
   "metadata": {},
   "outputs": [],
   "source": [
    "# Display rows with one or more null values\n",
    "df_opioids[df_opioids.isnull().any(axis=1)]"
   ]
  },
  {
   "cell_type": "code",
   "execution_count": null,
   "metadata": {},
   "outputs": [],
   "source": [
    "# Drop rows with missing values in Vpostal\n",
    "df2_opioids=df_opioids.dropna(subset=['Vpostal'])"
   ]
  },
  {
   "cell_type": "code",
   "execution_count": null,
   "metadata": {},
   "outputs": [],
   "source": [
    "# Check number of rows before and after dropna\n",
    "before_rows = df_opioids.shape[0]\n",
    "print(before_rows)"
   ]
  },
  {
   "cell_type": "code",
   "execution_count": null,
   "metadata": {},
   "outputs": [],
   "source": [
    "after_rows = df2_opioids.shape[0]\n",
    "print(after_rows)"
   ]
  },
  {
   "cell_type": "code",
   "execution_count": null,
   "metadata": {},
   "outputs": [],
   "source": [
    "# Check how many of the remaining records have states attached\n",
    "df2_opioids.VGeoRegion.value_counts()"
   ]
  },
  {
   "cell_type": "code",
   "execution_count": null,
   "metadata": {},
   "outputs": [],
   "source": [
    "df2_opioids['Vpostal']"
   ]
  },
  {
   "cell_type": "code",
   "execution_count": null,
   "metadata": {},
   "outputs": [],
   "source": [
    "# Check how many unique zip codes remain\n",
    "df2_opioids['Vpostal'].nunique()"
   ]
  },
  {
   "cell_type": "code",
   "execution_count": null,
   "metadata": {},
   "outputs": [],
   "source": [
    "# Create new GEOID variable by transforming Vpostal into an integer (stripping the leading zeros from Vpostal)\n",
    "strip_Vpostal = df2_opioids['Vpostal'].apply(int)"
   ]
  },
  {
   "cell_type": "code",
   "execution_count": null,
   "metadata": {},
   "outputs": [],
   "source": [
    "strip_Vpostal.head()"
   ]
  },
  {
   "cell_type": "code",
   "execution_count": null,
   "metadata": {},
   "outputs": [],
   "source": [
    "len(strip_Vpostal)"
   ]
  },
  {
   "cell_type": "code",
   "execution_count": null,
   "metadata": {},
   "outputs": [],
   "source": [
    "# Check zip codes count\n",
    "strip_Vpostal.value_counts()"
   ]
  },
  {
   "cell_type": "code",
   "execution_count": null,
   "metadata": {},
   "outputs": [],
   "source": [
    "df3_opioids = df2_opioids.assign(GEOID = strip_Vpostal)"
   ]
  },
  {
   "cell_type": "code",
   "execution_count": null,
   "metadata": {},
   "outputs": [],
   "source": [
    "df3_opioids.head()"
   ]
  },
  {
   "cell_type": "code",
   "execution_count": null,
   "metadata": {},
   "outputs": [],
   "source": [
    "# Check new column GEOID\n",
    "GEOIDslice = ['Vrid', 'Vpostal','GEOID']\n",
    "GEOIDcheck = df3_opioids[GEOIDslice]\n",
    "print(GEOIDcheck)"
   ]
  },
  {
   "cell_type": "code",
   "execution_count": null,
   "metadata": {},
   "outputs": [],
   "source": [
    "# Save records with zip codes as a new csv file\n",
    "df3_opioids.to_csv(\"Opioids_ZCSubset.csv\", index=False)"
   ]
  },
  {
   "cell_type": "code",
   "execution_count": null,
   "metadata": {},
   "outputs": [],
   "source": [
    "# Read in ZIP Code Tabulation Areas Gazetteer File\n",
    "df_ZCTA = pd.read_csv(\"2015_Gaz_zcta_national.txt\", sep = \"\\t\")\n",
    "df_ZCTA.head()"
   ]
  },
  {
   "cell_type": "code",
   "execution_count": null,
   "metadata": {},
   "outputs": [],
   "source": [
    "len(df_ZCTA.index)"
   ]
  },
  {
   "cell_type": "code",
   "execution_count": null,
   "metadata": {},
   "outputs": [],
   "source": [
    "# Create dataset with GEOID and ALAND_SQMI only, save as .csv\n",
    "features = ['GEOID', 'ALAND_SQMI']\n",
    "df2_ZCTA = df_ZCTA[features]"
   ]
  },
  {
   "cell_type": "code",
   "execution_count": null,
   "metadata": {},
   "outputs": [],
   "source": [
    "df2_ZCTA.head()"
   ]
  },
  {
   "cell_type": "code",
   "execution_count": null,
   "metadata": {},
   "outputs": [],
   "source": [
    "# Save land area by ZCTA as a new csv file\n",
    "df2_ZCTA.to_csv(\"LandArea_ZCTA.csv\", index=False)"
   ]
  },
  {
   "cell_type": "code",
   "execution_count": null,
   "metadata": {},
   "outputs": [],
   "source": [
    "# Read in housing unit counts by ZCTA from ACS data\n",
    "df_HU = pd.read_csv(\"ACS_16_5YR_B25001_with_ann.csv\", header=0, skiprows=[1])\n",
    "df_HU.head()"
   ]
  },
  {
   "cell_type": "code",
   "execution_count": null,
   "metadata": {},
   "outputs": [],
   "source": [
    "# Rename GEO.id2 to GEOID\n",
    "df_HU.rename(columns = {'GEO.id2':'GEOID'}, inplace=True)\n",
    "df_HU.head()"
   ]
  },
  {
   "cell_type": "code",
   "execution_count": null,
   "metadata": {},
   "outputs": [],
   "source": [
    "# Create dataset with GEOID and HD01_VD01 only, save as .csv\n",
    "features2 = ['GEOID', 'HD01_VD01']\n",
    "df2_HU= df_HU[features2]"
   ]
  },
  {
   "cell_type": "code",
   "execution_count": null,
   "metadata": {},
   "outputs": [],
   "source": [
    "df2_HU.head()"
   ]
  },
  {
   "cell_type": "code",
   "execution_count": null,
   "metadata": {},
   "outputs": [],
   "source": [
    "len(df2_HU)"
   ]
  },
  {
   "cell_type": "code",
   "execution_count": null,
   "metadata": {},
   "outputs": [],
   "source": [
    "# Save housing units by ZCTA as a new csv file\n",
    "df2_HU.to_csv(\"HousingUnits_ZCTA.csv\", index=False)"
   ]
  },
  {
   "cell_type": "code",
   "execution_count": null,
   "metadata": {},
   "outputs": [],
   "source": [
    "# Add housing units variable 'HD01_VD01' from df2_HU to survey dataframe df3_opioids by merging on GEOID\n",
    "df_merged = pd.merge(df3_opioids, df2_HU, how='left', on='GEOID')\n",
    "df_merged.head()"
   ]
  },
  {
   "cell_type": "code",
   "execution_count": null,
   "metadata": {},
   "outputs": [],
   "source": [
    "# Add land area variable 'ALAND_SQMI' from df2_ZCTA to merged dataframe df_merged by merging on GEOID\n",
    "df_merged = pd.merge(df_merged, df2_ZCTA, how='left', on='GEOID')\n",
    "df_merged.head()"
   ]
  },
  {
   "cell_type": "code",
   "execution_count": null,
   "metadata": {
    "scrolled": false
   },
   "outputs": [],
   "source": [
    "# Create new variable 'HD' housing density (housing units per square mile = HD01_VD01/ALAND_SQMI)\n",
    "df_merged['HD'] = df_merged['HD01_VD01']/df_merged['ALAND_SQMI']\n",
    "df_merged.head()"
   ]
  },
  {
   "cell_type": "code",
   "execution_count": null,
   "metadata": {},
   "outputs": [],
   "source": [
    "# Check number of values in HD\n",
    "len(df_merged['HD'])"
   ]
  },
  {
   "cell_type": "code",
   "execution_count": null,
   "metadata": {},
   "outputs": [],
   "source": [
    "# Display rows with one or more null values\n",
    "df_merged[df_merged.isnull().any(axis=1)]"
   ]
  },
  {
   "cell_type": "code",
   "execution_count": null,
   "metadata": {},
   "outputs": [],
   "source": [
    "before_rows = df_merged.shape[0]\n",
    "print(before_rows)"
   ]
  },
  {
   "cell_type": "code",
   "execution_count": null,
   "metadata": {},
   "outputs": [],
   "source": [
    "# Drop rows with missing values\n",
    "df_merged = df_merged.dropna()"
   ]
  },
  {
   "cell_type": "code",
   "execution_count": null,
   "metadata": {},
   "outputs": [],
   "source": [
    "after_rows = df_merged.shape[0]\n",
    "print(after_rows)"
   ]
  },
  {
   "cell_type": "code",
   "execution_count": null,
   "metadata": {},
   "outputs": [],
   "source": [
    "# Check number of rows dropped\n",
    "before_rows - after_rows"
   ]
  },
  {
   "cell_type": "code",
   "execution_count": null,
   "metadata": {},
   "outputs": [],
   "source": [
    "# Check how many unique zip codes remain\n",
    "df_merged['GEOID'].nunique()"
   ]
  },
  {
   "cell_type": "code",
   "execution_count": null,
   "metadata": {},
   "outputs": [],
   "source": [
    "# Create new variable 'CT' community type (Urban: >2,213 hu/sqmi; Suburban: 102 to 2,213 hu/sqmi; Rural: <102 hu/sqmi)\n",
    "df_merged['CT']=np.where(df_merged['HD']>2213, 0,(np.where(df_merged['HD']<102,2,1)))\n",
    "df_merged.head()"
   ]
  },
  {
   "cell_type": "code",
   "execution_count": null,
   "metadata": {},
   "outputs": [],
   "source": [
    "# Check CT frequencies\n",
    "df_merged.CT.value_counts()"
   ]
  },
  {
   "cell_type": "code",
   "execution_count": null,
   "metadata": {},
   "outputs": [],
   "source": [
    "# Save merged dataframe as a new csv file\n",
    "df_merged.to_csv(\"OpioidsMerged.csv\", index=False)"
   ]
  },
  {
   "cell_type": "markdown",
   "metadata": {},
   "source": [
    "### Use cluster analysis to identify associated clusters of demographic/experiential variables and opioid attitudes"
   ]
  },
  {
   "cell_type": "code",
   "execution_count": 3,
   "metadata": {},
   "outputs": [],
   "source": [
    "from kmodes.kmodes import KModes\n",
    "import python_utils\n",
    "from itertools import cycle, islice\n",
    "import matplotlib.pyplot as plt\n",
    "from pandas.tools.plotting import parallel_coordinates\n",
    "%matplotlib inline"
   ]
  },
  {
   "cell_type": "code",
   "execution_count": 6,
   "metadata": {},
   "outputs": [
    {
     "data": {
      "text/html": [
       "<div>\n",
       "<style scoped>\n",
       "    .dataframe tbody tr th:only-of-type {\n",
       "        vertical-align: middle;\n",
       "    }\n",
       "\n",
       "    .dataframe tbody tr th {\n",
       "        vertical-align: top;\n",
       "    }\n",
       "\n",
       "    .dataframe thead th {\n",
       "        text-align: right;\n",
       "    }\n",
       "</style>\n",
       "<table border=\"1\" class=\"dataframe\">\n",
       "  <thead>\n",
       "    <tr style=\"text-align: right;\">\n",
       "      <th></th>\n",
       "      <th>var9</th>\n",
       "      <th>var11</th>\n",
       "      <th>var12</th>\n",
       "      <th>var13</th>\n",
       "      <th>educrec</th>\n",
       "      <th>incomerec</th>\n",
       "      <th>var16</th>\n",
       "      <th>politrec</th>\n",
       "      <th>var217</th>\n",
       "      <th>var230</th>\n",
       "      <th>...</th>\n",
       "      <th>var247rec</th>\n",
       "      <th>var248rec</th>\n",
       "      <th>var249rec</th>\n",
       "      <th>var250rec</th>\n",
       "      <th>var251rec</th>\n",
       "      <th>var252rec</th>\n",
       "      <th>var253rec</th>\n",
       "      <th>var254rec</th>\n",
       "      <th>var255rec</th>\n",
       "      <th>CT</th>\n",
       "    </tr>\n",
       "  </thead>\n",
       "  <tbody>\n",
       "    <tr>\n",
       "      <th>0</th>\n",
       "      <td>10001</td>\n",
       "      <td>10023</td>\n",
       "      <td>10026</td>\n",
       "      <td>10031</td>\n",
       "      <td>3</td>\n",
       "      <td>2</td>\n",
       "      <td>10052</td>\n",
       "      <td>1</td>\n",
       "      <td>10657</td>\n",
       "      <td>10723</td>\n",
       "      <td>...</td>\n",
       "      <td>2</td>\n",
       "      <td>2</td>\n",
       "      <td>1</td>\n",
       "      <td>1</td>\n",
       "      <td>2</td>\n",
       "      <td>1</td>\n",
       "      <td>1</td>\n",
       "      <td>1</td>\n",
       "      <td>1</td>\n",
       "      <td>1</td>\n",
       "    </tr>\n",
       "    <tr>\n",
       "      <th>1</th>\n",
       "      <td>10006</td>\n",
       "      <td>10024</td>\n",
       "      <td>10027</td>\n",
       "      <td>10031</td>\n",
       "      <td>3</td>\n",
       "      <td>3</td>\n",
       "      <td>10055</td>\n",
       "      <td>2</td>\n",
       "      <td>10657</td>\n",
       "      <td>10724</td>\n",
       "      <td>...</td>\n",
       "      <td>1</td>\n",
       "      <td>2</td>\n",
       "      <td>1</td>\n",
       "      <td>2</td>\n",
       "      <td>1</td>\n",
       "      <td>1</td>\n",
       "      <td>2</td>\n",
       "      <td>1</td>\n",
       "      <td>1</td>\n",
       "      <td>1</td>\n",
       "    </tr>\n",
       "    <tr>\n",
       "      <th>2</th>\n",
       "      <td>10001</td>\n",
       "      <td>10023</td>\n",
       "      <td>10025</td>\n",
       "      <td>10034</td>\n",
       "      <td>2</td>\n",
       "      <td>2</td>\n",
       "      <td>10056</td>\n",
       "      <td>3</td>\n",
       "      <td>10656</td>\n",
       "      <td>10724</td>\n",
       "      <td>...</td>\n",
       "      <td>2</td>\n",
       "      <td>1</td>\n",
       "      <td>1</td>\n",
       "      <td>1</td>\n",
       "      <td>1</td>\n",
       "      <td>1</td>\n",
       "      <td>2</td>\n",
       "      <td>2</td>\n",
       "      <td>2</td>\n",
       "      <td>0</td>\n",
       "    </tr>\n",
       "    <tr>\n",
       "      <th>3</th>\n",
       "      <td>10004</td>\n",
       "      <td>10024</td>\n",
       "      <td>10025</td>\n",
       "      <td>10036</td>\n",
       "      <td>2</td>\n",
       "      <td>1</td>\n",
       "      <td>10052</td>\n",
       "      <td>3</td>\n",
       "      <td>10656</td>\n",
       "      <td>10724</td>\n",
       "      <td>...</td>\n",
       "      <td>2</td>\n",
       "      <td>1</td>\n",
       "      <td>1</td>\n",
       "      <td>2</td>\n",
       "      <td>1</td>\n",
       "      <td>1</td>\n",
       "      <td>1</td>\n",
       "      <td>2</td>\n",
       "      <td>2</td>\n",
       "      <td>0</td>\n",
       "    </tr>\n",
       "    <tr>\n",
       "      <th>4</th>\n",
       "      <td>10001</td>\n",
       "      <td>10024</td>\n",
       "      <td>10029</td>\n",
       "      <td>10034</td>\n",
       "      <td>2</td>\n",
       "      <td>2</td>\n",
       "      <td>10056</td>\n",
       "      <td>1</td>\n",
       "      <td>10656</td>\n",
       "      <td>10724</td>\n",
       "      <td>...</td>\n",
       "      <td>2</td>\n",
       "      <td>1</td>\n",
       "      <td>1</td>\n",
       "      <td>2</td>\n",
       "      <td>1</td>\n",
       "      <td>1</td>\n",
       "      <td>2</td>\n",
       "      <td>2</td>\n",
       "      <td>2</td>\n",
       "      <td>0</td>\n",
       "    </tr>\n",
       "  </tbody>\n",
       "</table>\n",
       "<p>5 rows × 36 columns</p>\n",
       "</div>"
      ],
      "text/plain": [
       "    var9  var11  var12  var13  educrec  incomerec  var16  politrec  var217  \\\n",
       "0  10001  10023  10026  10031        3          2  10052         1   10657   \n",
       "1  10006  10024  10027  10031        3          3  10055         2   10657   \n",
       "2  10001  10023  10025  10034        2          2  10056         3   10656   \n",
       "3  10004  10024  10025  10036        2          1  10052         3   10656   \n",
       "4  10001  10024  10029  10034        2          2  10056         1   10656   \n",
       "\n",
       "   var230 ...  var247rec  var248rec  var249rec  var250rec  var251rec  \\\n",
       "0   10723 ...          2          2          1          1          2   \n",
       "1   10724 ...          1          2          1          2          1   \n",
       "2   10724 ...          2          1          1          1          1   \n",
       "3   10724 ...          2          1          1          2          1   \n",
       "4   10724 ...          2          1          1          2          1   \n",
       "\n",
       "   var252rec  var253rec  var254rec  var255rec  CT  \n",
       "0          1          1          1          1   1  \n",
       "1          1          2          1          1   1  \n",
       "2          1          2          2          2   0  \n",
       "3          1          1          2          2   0  \n",
       "4          1          2          2          2   0  \n",
       "\n",
       "[5 rows x 36 columns]"
      ]
     },
     "execution_count": 6,
     "metadata": {},
     "output_type": "execute_result"
    }
   ],
   "source": [
    "# Select features of interest and create dataframe for cluster analysis\n",
    "features = ['var9', 'var11', 'var12', 'var13', 'educrec', 'incomerec', 'var16', 'politrec', 'var217',\n",
    "            'var230', 'var231', 'var232', 'var233', 'var234', 'var235', 'var236', 'var237rec', 'var238rec', \n",
    "            'var239rec', 'var240rec', 'var241rec', 'var242rec', 'var243rec', 'var244rec', 'var245rec', 'var246', \n",
    "            'var247rec','var248rec', 'var249rec', 'var250rec', 'var251rec', 'var252rec', 'var253rec', 'var254rec',\n",
    "            'var255rec', 'CT']\n",
    "cslice = df_merged[features]\n",
    "cslice.head()"
   ]
  },
  {
   "cell_type": "code",
   "execution_count": 7,
   "metadata": {},
   "outputs": [
    {
     "data": {
      "text/plain": [
       "var9  10001    175.0\n",
       "      10002     81.0\n",
       "      10003     91.0\n",
       "      10004    175.0\n",
       "      10005     62.0\n",
       "dtype: float64"
      ]
     },
     "execution_count": 7,
     "metadata": {},
     "output_type": "execute_result"
    }
   ],
   "source": [
    "# Check variable frequencies\n",
    "cslice_counts = cslice.apply(lambda x: x.value_counts()).T.stack()\n",
    "cslice_counts.head()"
   ]
  },
  {
   "cell_type": "code",
   "execution_count": 8,
   "metadata": {},
   "outputs": [
    {
     "name": "stdout",
     "output_type": "stream",
     "text": [
      "0    396.0\n",
      "1    630.0\n",
      "2     48.0\n",
      "dtype: float64\n"
     ]
    }
   ],
   "source": [
    "print(cslice_counts['CT'])"
   ]
  },
  {
   "cell_type": "code",
   "execution_count": 9,
   "metadata": {},
   "outputs": [
    {
     "data": {
      "text/plain": [
       "var255rec  1    665.0\n",
       "           2    409.0\n",
       "CT         0    396.0\n",
       "           1    630.0\n",
       "           2     48.0\n",
       "dtype: float64"
      ]
     },
     "execution_count": 9,
     "metadata": {},
     "output_type": "execute_result"
    }
   ],
   "source": [
    "cslice_counts.tail()"
   ]
  },
  {
   "cell_type": "code",
   "execution_count": 10,
   "metadata": {},
   "outputs": [],
   "source": [
    "cluster_range = range( 1, 10 )"
   ]
  },
  {
   "cell_type": "code",
   "execution_count": 11,
   "metadata": {},
   "outputs": [
    {
     "name": "stdout",
     "output_type": "stream",
     "text": [
      "Init: initializing centroids\n",
      "Init: initializing clusters\n",
      "Starting iterations...\n",
      "Run 1, iteration: 1/100, moves: 0, cost: 17513.0\n",
      "Init: initializing centroids\n",
      "Init: initializing clusters\n",
      "Starting iterations...\n",
      "Run 2, iteration: 1/100, moves: 0, cost: 17513.0\n",
      "Init: initializing centroids\n",
      "Init: initializing clusters\n",
      "Starting iterations...\n",
      "Run 3, iteration: 1/100, moves: 0, cost: 17513.0\n",
      "Init: initializing centroids\n",
      "Init: initializing clusters\n",
      "Starting iterations...\n",
      "Run 4, iteration: 1/100, moves: 0, cost: 17513.0\n",
      "Init: initializing centroids\n",
      "Init: initializing clusters\n",
      "Starting iterations...\n",
      "Run 5, iteration: 1/100, moves: 0, cost: 17513.0\n",
      "Init: initializing centroids\n",
      "Init: initializing clusters\n",
      "Starting iterations...\n",
      "Run 6, iteration: 1/100, moves: 0, cost: 17513.0\n",
      "Init: initializing centroids\n",
      "Init: initializing clusters\n",
      "Starting iterations...\n",
      "Run 7, iteration: 1/100, moves: 0, cost: 17513.0\n",
      "Init: initializing centroids\n",
      "Init: initializing clusters\n",
      "Starting iterations...\n",
      "Run 8, iteration: 1/100, moves: 0, cost: 17513.0\n",
      "Init: initializing centroids\n",
      "Init: initializing clusters\n",
      "Starting iterations...\n",
      "Run 9, iteration: 1/100, moves: 0, cost: 17513.0\n",
      "Init: initializing centroids\n",
      "Init: initializing clusters\n",
      "Starting iterations...\n",
      "Run 10, iteration: 1/100, moves: 0, cost: 17513.0\n",
      "Best run was number 1\n",
      "Init: initializing centroids\n",
      "Init: initializing clusters\n",
      "Starting iterations...\n",
      "Run 1, iteration: 1/100, moves: 301, cost: 15464.0\n",
      "Run 1, iteration: 2/100, moves: 49, cost: 15436.0\n",
      "Run 1, iteration: 3/100, moves: 6, cost: 15436.0\n",
      "Init: initializing centroids\n",
      "Init: initializing clusters\n",
      "Starting iterations...\n",
      "Run 2, iteration: 1/100, moves: 219, cost: 15870.0\n",
      "Run 2, iteration: 2/100, moves: 103, cost: 15779.0\n",
      "Run 2, iteration: 3/100, moves: 76, cost: 15580.0\n",
      "Run 2, iteration: 4/100, moves: 98, cost: 15485.0\n",
      "Run 2, iteration: 5/100, moves: 14, cost: 15485.0\n",
      "Init: initializing centroids\n",
      "Init: initializing clusters\n",
      "Starting iterations...\n",
      "Run 3, iteration: 1/100, moves: 100, cost: 15478.0\n",
      "Run 3, iteration: 2/100, moves: 0, cost: 15478.0\n",
      "Init: initializing centroids\n",
      "Init: initializing clusters\n",
      "Starting iterations...\n",
      "Run 4, iteration: 1/100, moves: 219, cost: 15391.0\n",
      "Run 4, iteration: 2/100, moves: 23, cost: 15391.0\n",
      "Init: initializing centroids\n",
      "Init: initializing clusters\n",
      "Starting iterations...\n",
      "Run 5, iteration: 1/100, moves: 356, cost: 15507.0\n",
      "Run 5, iteration: 2/100, moves: 91, cost: 15455.0\n",
      "Run 5, iteration: 3/100, moves: 9, cost: 15455.0\n",
      "Init: initializing centroids\n",
      "Init: initializing clusters\n",
      "Starting iterations...\n",
      "Run 6, iteration: 1/100, moves: 246, cost: 15463.0\n",
      "Run 6, iteration: 2/100, moves: 72, cost: 15418.0\n",
      "Run 6, iteration: 3/100, moves: 31, cost: 15418.0\n",
      "Init: initializing centroids\n",
      "Init: initializing clusters\n",
      "Starting iterations...\n",
      "Run 7, iteration: 1/100, moves: 223, cost: 15498.0\n",
      "Run 7, iteration: 2/100, moves: 118, cost: 15498.0\n",
      "Init: initializing centroids\n",
      "Init: initializing clusters\n",
      "Starting iterations...\n",
      "Run 8, iteration: 1/100, moves: 200, cost: 15428.0\n",
      "Run 8, iteration: 2/100, moves: 91, cost: 15428.0\n",
      "Init: initializing centroids\n",
      "Init: initializing clusters\n",
      "Starting iterations...\n",
      "Run 9, iteration: 1/100, moves: 338, cost: 15500.0\n",
      "Run 9, iteration: 2/100, moves: 81, cost: 15472.0\n",
      "Run 9, iteration: 3/100, moves: 29, cost: 15472.0\n",
      "Init: initializing centroids\n",
      "Init: initializing clusters\n",
      "Starting iterations...\n",
      "Run 10, iteration: 1/100, moves: 217, cost: 15470.0\n",
      "Run 10, iteration: 2/100, moves: 73, cost: 15470.0\n",
      "Best run was number 4\n",
      "Init: initializing centroids\n",
      "Init: initializing clusters\n",
      "Starting iterations...\n",
      "Run 1, iteration: 1/100, moves: 419, cost: 14103.0\n",
      "Run 1, iteration: 2/100, moves: 169, cost: 13969.0\n",
      "Run 1, iteration: 3/100, moves: 19, cost: 13969.0\n",
      "Init: initializing centroids\n",
      "Init: initializing clusters\n",
      "Starting iterations...\n",
      "Run 2, iteration: 1/100, moves: 247, cost: 14120.0\n",
      "Run 2, iteration: 2/100, moves: 116, cost: 14031.0\n",
      "Run 2, iteration: 3/100, moves: 19, cost: 14023.0\n",
      "Run 2, iteration: 4/100, moves: 5, cost: 14023.0\n",
      "Init: initializing centroids\n",
      "Init: initializing clusters\n",
      "Starting iterations...\n",
      "Run 3, iteration: 1/100, moves: 431, cost: 14322.0\n",
      "Run 3, iteration: 2/100, moves: 218, cost: 13997.0\n",
      "Run 3, iteration: 3/100, moves: 64, cost: 13986.0\n",
      "Run 3, iteration: 4/100, moves: 46, cost: 13973.0\n",
      "Run 3, iteration: 5/100, moves: 9, cost: 13973.0\n",
      "Init: initializing centroids\n",
      "Init: initializing clusters\n",
      "Starting iterations...\n",
      "Run 4, iteration: 1/100, moves: 339, cost: 14287.0\n",
      "Run 4, iteration: 2/100, moves: 234, cost: 13971.0\n",
      "Run 4, iteration: 3/100, moves: 60, cost: 13934.0\n",
      "Run 4, iteration: 4/100, moves: 6, cost: 13934.0\n",
      "Init: initializing centroids\n",
      "Init: initializing clusters\n",
      "Starting iterations...\n",
      "Run 5, iteration: 1/100, moves: 218, cost: 15008.0\n",
      "Run 5, iteration: 2/100, moves: 45, cost: 15008.0\n",
      "Init: initializing centroids\n",
      "Init: initializing clusters\n",
      "Starting iterations...\n",
      "Run 6, iteration: 1/100, moves: 338, cost: 14015.0\n",
      "Run 6, iteration: 2/100, moves: 81, cost: 13967.0\n",
      "Run 6, iteration: 3/100, moves: 50, cost: 13961.0\n",
      "Run 6, iteration: 4/100, moves: 5, cost: 13961.0\n",
      "Init: initializing centroids\n",
      "Init: initializing clusters\n",
      "Starting iterations...\n",
      "Run 7, iteration: 1/100, moves: 395, cost: 14950.0\n",
      "Run 7, iteration: 2/100, moves: 72, cost: 14932.0\n",
      "Run 7, iteration: 3/100, moves: 1, cost: 14932.0\n",
      "Init: initializing centroids\n",
      "Init: initializing clusters\n",
      "Starting iterations...\n",
      "Run 8, iteration: 1/100, moves: 447, cost: 14812.0\n",
      "Run 8, iteration: 2/100, moves: 246, cost: 14239.0\n",
      "Run 8, iteration: 3/100, moves: 158, cost: 13966.0\n",
      "Run 8, iteration: 4/100, moves: 62, cost: 13934.0\n",
      "Run 8, iteration: 5/100, moves: 9, cost: 13934.0\n",
      "Init: initializing centroids\n",
      "Init: initializing clusters\n",
      "Starting iterations...\n",
      "Run 9, iteration: 1/100, moves: 445, cost: 13979.0\n",
      "Run 9, iteration: 2/100, moves: 93, cost: 13957.0\n",
      "Run 9, iteration: 3/100, moves: 1, cost: 13957.0\n",
      "Init: initializing centroids\n",
      "Init: initializing clusters\n",
      "Starting iterations...\n",
      "Run 10, iteration: 1/100, moves: 308, cost: 14964.0\n",
      "Run 10, iteration: 2/100, moves: 88, cost: 14924.0\n",
      "Run 10, iteration: 3/100, moves: 4, cost: 14924.0\n",
      "Best run was number 4\n",
      "Init: initializing centroids\n",
      "Init: initializing clusters\n",
      "Starting iterations...\n",
      "Run 1, iteration: 1/100, moves: 409, cost: 14105.0\n",
      "Run 1, iteration: 2/100, moves: 180, cost: 13659.0\n",
      "Run 1, iteration: 3/100, moves: 43, cost: 13659.0\n",
      "Init: initializing centroids\n",
      "Init: initializing clusters\n",
      "Starting iterations...\n",
      "Run 2, iteration: 1/100, moves: 350, cost: 13588.0\n",
      "Run 2, iteration: 2/100, moves: 91, cost: 13541.0\n",
      "Run 2, iteration: 3/100, moves: 25, cost: 13531.0\n",
      "Run 2, iteration: 4/100, moves: 0, cost: 13531.0\n",
      "Init: initializing centroids\n",
      "Init: initializing clusters\n",
      "Starting iterations...\n",
      "Run 3, iteration: 1/100, moves: 246, cost: 13628.0\n",
      "Run 3, iteration: 2/100, moves: 38, cost: 13628.0\n",
      "Init: initializing centroids\n",
      "Init: initializing clusters\n",
      "Starting iterations...\n",
      "Run 4, iteration: 1/100, moves: 329, cost: 14565.0\n",
      "Run 4, iteration: 2/100, moves: 182, cost: 14051.0\n",
      "Run 4, iteration: 3/100, moves: 173, cost: 13778.0\n",
      "Run 4, iteration: 4/100, moves: 85, cost: 13711.0\n",
      "Run 4, iteration: 5/100, moves: 45, cost: 13687.0\n",
      "Run 4, iteration: 6/100, moves: 4, cost: 13687.0\n",
      "Init: initializing centroids\n",
      "Init: initializing clusters\n",
      "Starting iterations...\n",
      "Run 5, iteration: 1/100, moves: 409, cost: 13832.0\n",
      "Run 5, iteration: 2/100, moves: 160, cost: 13727.0\n",
      "Run 5, iteration: 3/100, moves: 36, cost: 13727.0\n",
      "Init: initializing centroids\n",
      "Init: initializing clusters\n",
      "Starting iterations...\n",
      "Run 6, iteration: 1/100, moves: 326, cost: 13758.0\n",
      "Run 6, iteration: 2/100, moves: 139, cost: 13668.0\n",
      "Run 6, iteration: 3/100, moves: 65, cost: 13640.0\n",
      "Run 6, iteration: 4/100, moves: 16, cost: 13640.0\n",
      "Init: initializing centroids\n",
      "Init: initializing clusters\n",
      "Starting iterations...\n",
      "Run 7, iteration: 1/100, moves: 435, cost: 13581.0\n",
      "Run 7, iteration: 2/100, moves: 116, cost: 13515.0\n",
      "Run 7, iteration: 3/100, moves: 71, cost: 13515.0\n",
      "Init: initializing centroids\n",
      "Init: initializing clusters\n",
      "Starting iterations...\n",
      "Run 8, iteration: 1/100, moves: 381, cost: 13863.0\n",
      "Run 8, iteration: 2/100, moves: 184, cost: 13739.0\n",
      "Run 8, iteration: 3/100, moves: 78, cost: 13705.0\n",
      "Run 8, iteration: 4/100, moves: 11, cost: 13705.0\n",
      "Init: initializing centroids\n",
      "Init: initializing clusters\n",
      "Starting iterations...\n"
     ]
    },
    {
     "name": "stdout",
     "output_type": "stream",
     "text": [
      "Run 9, iteration: 1/100, moves: 415, cost: 13679.0\n",
      "Run 9, iteration: 2/100, moves: 81, cost: 13679.0\n",
      "Init: initializing centroids\n",
      "Init: initializing clusters\n",
      "Starting iterations...\n",
      "Run 10, iteration: 1/100, moves: 322, cost: 13725.0\n",
      "Run 10, iteration: 2/100, moves: 98, cost: 13681.0\n",
      "Run 10, iteration: 3/100, moves: 34, cost: 13681.0\n",
      "Best run was number 7\n",
      "Init: initializing centroids\n",
      "Init: initializing clusters\n",
      "Starting iterations...\n",
      "Run 1, iteration: 1/100, moves: 406, cost: 14600.0\n",
      "Run 1, iteration: 2/100, moves: 99, cost: 14460.0\n",
      "Run 1, iteration: 3/100, moves: 183, cost: 14305.0\n",
      "Run 1, iteration: 4/100, moves: 196, cost: 13429.0\n",
      "Run 1, iteration: 5/100, moves: 193, cost: 13285.0\n",
      "Run 1, iteration: 6/100, moves: 117, cost: 13222.0\n",
      "Run 1, iteration: 7/100, moves: 38, cost: 13222.0\n",
      "Init: initializing centroids\n",
      "Init: initializing clusters\n",
      "Starting iterations...\n",
      "Run 2, iteration: 1/100, moves: 398, cost: 13293.0\n",
      "Run 2, iteration: 2/100, moves: 171, cost: 13186.0\n",
      "Run 2, iteration: 3/100, moves: 111, cost: 13148.0\n",
      "Run 2, iteration: 4/100, moves: 2, cost: 13148.0\n",
      "Init: initializing centroids\n",
      "Init: initializing clusters\n",
      "Starting iterations...\n",
      "Run 3, iteration: 1/100, moves: 348, cost: 13284.0\n",
      "Run 3, iteration: 2/100, moves: 80, cost: 13249.0\n",
      "Run 3, iteration: 3/100, moves: 9, cost: 13249.0\n",
      "Init: initializing centroids\n",
      "Init: initializing clusters\n",
      "Starting iterations...\n",
      "Run 4, iteration: 1/100, moves: 392, cost: 13438.0\n",
      "Run 4, iteration: 2/100, moves: 194, cost: 13329.0\n",
      "Run 4, iteration: 3/100, moves: 39, cost: 13329.0\n",
      "Init: initializing centroids\n",
      "Init: initializing clusters\n",
      "Starting iterations...\n",
      "Run 5, iteration: 1/100, moves: 444, cost: 13574.0\n",
      "Run 5, iteration: 2/100, moves: 215, cost: 13411.0\n",
      "Run 5, iteration: 3/100, moves: 151, cost: 13357.0\n",
      "Run 5, iteration: 4/100, moves: 48, cost: 13342.0\n",
      "Run 5, iteration: 5/100, moves: 4, cost: 13342.0\n",
      "Init: initializing centroids\n",
      "Init: initializing clusters\n",
      "Starting iterations...\n",
      "Run 6, iteration: 1/100, moves: 380, cost: 13226.0\n",
      "Run 6, iteration: 2/100, moves: 93, cost: 13226.0\n",
      "Init: initializing centroids\n",
      "Init: initializing clusters\n",
      "Starting iterations...\n",
      "Run 7, iteration: 1/100, moves: 460, cost: 13402.0\n",
      "Run 7, iteration: 2/100, moves: 181, cost: 13331.0\n",
      "Run 7, iteration: 3/100, moves: 38, cost: 13331.0\n",
      "Init: initializing centroids\n",
      "Init: initializing clusters\n",
      "Starting iterations...\n",
      "Run 8, iteration: 1/100, moves: 424, cost: 13282.0\n",
      "Run 8, iteration: 2/100, moves: 131, cost: 13282.0\n",
      "Init: initializing centroids\n",
      "Init: initializing clusters\n",
      "Starting iterations...\n",
      "Run 9, iteration: 1/100, moves: 360, cost: 13414.0\n",
      "Run 9, iteration: 2/100, moves: 174, cost: 13310.0\n",
      "Run 9, iteration: 3/100, moves: 70, cost: 13298.0\n",
      "Run 9, iteration: 4/100, moves: 12, cost: 13298.0\n",
      "Init: initializing centroids\n",
      "Init: initializing clusters\n",
      "Starting iterations...\n",
      "Run 10, iteration: 1/100, moves: 427, cost: 13335.0\n",
      "Run 10, iteration: 2/100, moves: 162, cost: 13221.0\n",
      "Run 10, iteration: 3/100, moves: 57, cost: 13206.0\n",
      "Run 10, iteration: 4/100, moves: 0, cost: 13206.0\n",
      "Best run was number 2\n",
      "Init: initializing centroids\n",
      "Init: initializing clusters\n",
      "Starting iterations...\n",
      "Run 1, iteration: 1/100, moves: 348, cost: 13075.0\n",
      "Run 1, iteration: 2/100, moves: 94, cost: 13041.0\n",
      "Run 1, iteration: 3/100, moves: 17, cost: 13041.0\n",
      "Init: initializing centroids\n",
      "Init: initializing clusters\n",
      "Starting iterations...\n",
      "Run 2, iteration: 1/100, moves: 450, cost: 13493.0\n",
      "Run 2, iteration: 2/100, moves: 176, cost: 13303.0\n",
      "Run 2, iteration: 3/100, moves: 121, cost: 13265.0\n",
      "Run 2, iteration: 4/100, moves: 13, cost: 13265.0\n",
      "Init: initializing centroids\n",
      "Init: initializing clusters\n",
      "Starting iterations...\n",
      "Run 3, iteration: 1/100, moves: 468, cost: 12890.0\n",
      "Run 3, iteration: 2/100, moves: 101, cost: 12890.0\n",
      "Init: initializing centroids\n",
      "Init: initializing clusters\n",
      "Starting iterations...\n",
      "Run 4, iteration: 1/100, moves: 304, cost: 13155.0\n",
      "Run 4, iteration: 2/100, moves: 16, cost: 13155.0\n",
      "Init: initializing centroids\n",
      "Init: initializing clusters\n",
      "Starting iterations...\n",
      "Run 5, iteration: 1/100, moves: 336, cost: 12924.0\n",
      "Run 5, iteration: 2/100, moves: 114, cost: 12901.0\n",
      "Run 5, iteration: 3/100, moves: 7, cost: 12901.0\n",
      "Init: initializing centroids\n",
      "Init: initializing clusters\n",
      "Starting iterations...\n",
      "Run 6, iteration: 1/100, moves: 331, cost: 13152.0\n",
      "Run 6, iteration: 2/100, moves: 218, cost: 13003.0\n",
      "Run 6, iteration: 3/100, moves: 36, cost: 13003.0\n",
      "Init: initializing centroids\n",
      "Init: initializing clusters\n",
      "Starting iterations...\n",
      "Run 7, iteration: 1/100, moves: 394, cost: 13074.0\n",
      "Run 7, iteration: 2/100, moves: 148, cost: 13010.0\n",
      "Run 7, iteration: 3/100, moves: 83, cost: 12933.0\n",
      "Run 7, iteration: 4/100, moves: 22, cost: 12933.0\n",
      "Init: initializing centroids\n",
      "Init: initializing clusters\n",
      "Starting iterations...\n",
      "Run 8, iteration: 1/100, moves: 346, cost: 12964.0\n",
      "Run 8, iteration: 2/100, moves: 105, cost: 12930.0\n",
      "Run 8, iteration: 3/100, moves: 47, cost: 12906.0\n",
      "Run 8, iteration: 4/100, moves: 1, cost: 12906.0\n",
      "Init: initializing centroids\n",
      "Init: initializing clusters\n",
      "Starting iterations...\n",
      "Run 9, iteration: 1/100, moves: 311, cost: 13216.0\n",
      "Run 9, iteration: 2/100, moves: 40, cost: 13216.0\n",
      "Init: initializing centroids\n",
      "Init: initializing clusters\n",
      "Starting iterations...\n",
      "Run 10, iteration: 1/100, moves: 296, cost: 13238.0\n",
      "Run 10, iteration: 2/100, moves: 85, cost: 13217.0\n",
      "Run 10, iteration: 3/100, moves: 32, cost: 13197.0\n",
      "Run 10, iteration: 4/100, moves: 7, cost: 13197.0\n",
      "Best run was number 3\n",
      "Init: initializing centroids\n",
      "Init: initializing clusters\n",
      "Starting iterations...\n",
      "Run 1, iteration: 1/100, moves: 333, cost: 12958.0\n",
      "Run 1, iteration: 2/100, moves: 135, cost: 12919.0\n",
      "Run 1, iteration: 3/100, moves: 22, cost: 12919.0\n",
      "Init: initializing centroids\n",
      "Init: initializing clusters\n",
      "Starting iterations...\n",
      "Run 2, iteration: 1/100, moves: 380, cost: 12991.0\n",
      "Run 2, iteration: 2/100, moves: 222, cost: 12736.0\n",
      "Run 2, iteration: 3/100, moves: 116, cost: 12708.0\n",
      "Run 2, iteration: 4/100, moves: 24, cost: 12708.0\n",
      "Init: initializing centroids\n",
      "Init: initializing clusters\n",
      "Starting iterations...\n",
      "Run 3, iteration: 1/100, moves: 504, cost: 12774.0\n",
      "Run 3, iteration: 2/100, moves: 216, cost: 12668.0\n",
      "Run 3, iteration: 3/100, moves: 27, cost: 12668.0\n",
      "Init: initializing centroids\n",
      "Init: initializing clusters\n",
      "Starting iterations...\n",
      "Run 4, iteration: 1/100, moves: 475, cost: 13174.0\n",
      "Run 4, iteration: 2/100, moves: 192, cost: 12977.0\n",
      "Run 4, iteration: 3/100, moves: 133, cost: 12729.0\n",
      "Run 4, iteration: 4/100, moves: 118, cost: 12729.0\n",
      "Init: initializing centroids\n",
      "Init: initializing clusters\n",
      "Starting iterations...\n",
      "Run 5, iteration: 1/100, moves: 474, cost: 12820.0\n",
      "Run 5, iteration: 2/100, moves: 155, cost: 12803.0\n",
      "Run 5, iteration: 3/100, moves: 0, cost: 12803.0\n",
      "Init: initializing centroids\n",
      "Init: initializing clusters\n",
      "Starting iterations...\n",
      "Run 6, iteration: 1/100, moves: 352, cost: 13218.0\n",
      "Run 6, iteration: 2/100, moves: 129, cost: 13125.0\n",
      "Run 6, iteration: 3/100, moves: 55, cost: 13070.0\n",
      "Run 6, iteration: 4/100, moves: 48, cost: 13061.0\n",
      "Run 6, iteration: 5/100, moves: 30, cost: 13050.0\n",
      "Run 6, iteration: 6/100, moves: 9, cost: 13050.0\n",
      "Init: initializing centroids\n",
      "Init: initializing clusters\n",
      "Starting iterations...\n",
      "Run 7, iteration: 1/100, moves: 473, cost: 12909.0\n",
      "Run 7, iteration: 2/100, moves: 156, cost: 12879.0\n",
      "Run 7, iteration: 3/100, moves: 28, cost: 12851.0\n",
      "Run 7, iteration: 4/100, moves: 19, cost: 12851.0\n",
      "Init: initializing centroids\n",
      "Init: initializing clusters\n",
      "Starting iterations...\n",
      "Run 8, iteration: 1/100, moves: 382, cost: 12938.0\n",
      "Run 8, iteration: 2/100, moves: 164, cost: 12877.0\n",
      "Run 8, iteration: 3/100, moves: 27, cost: 12877.0\n",
      "Init: initializing centroids\n",
      "Init: initializing clusters\n",
      "Starting iterations...\n",
      "Run 9, iteration: 1/100, moves: 393, cost: 13038.0\n",
      "Run 9, iteration: 2/100, moves: 127, cost: 12980.0\n",
      "Run 9, iteration: 3/100, moves: 75, cost: 12934.0\n",
      "Run 9, iteration: 4/100, moves: 82, cost: 12879.0\n",
      "Run 9, iteration: 5/100, moves: 35, cost: 12867.0\n",
      "Run 9, iteration: 6/100, moves: 0, cost: 12867.0\n",
      "Init: initializing centroids\n",
      "Init: initializing clusters\n",
      "Starting iterations...\n",
      "Run 10, iteration: 1/100, moves: 469, cost: 12730.0\n",
      "Run 10, iteration: 2/100, moves: 136, cost: 12708.0\n",
      "Run 10, iteration: 3/100, moves: 36, cost: 12681.0\n",
      "Run 10, iteration: 4/100, moves: 13, cost: 12681.0\n",
      "Best run was number 3\n",
      "Init: initializing centroids\n",
      "Init: initializing clusters\n"
     ]
    },
    {
     "name": "stdout",
     "output_type": "stream",
     "text": [
      "Starting iterations...\n",
      "Run 1, iteration: 1/100, moves: 491, cost: 12548.0\n",
      "Run 1, iteration: 2/100, moves: 98, cost: 12531.0\n",
      "Run 1, iteration: 3/100, moves: 14, cost: 12531.0\n",
      "Init: initializing centroids\n",
      "Init: initializing clusters\n",
      "Starting iterations...\n",
      "Run 2, iteration: 1/100, moves: 412, cost: 12845.0\n",
      "Run 2, iteration: 2/100, moves: 117, cost: 12835.0\n",
      "Run 2, iteration: 3/100, moves: 8, cost: 12835.0\n",
      "Init: initializing centroids\n",
      "Init: initializing clusters\n",
      "Starting iterations...\n",
      "Run 3, iteration: 1/100, moves: 456, cost: 12788.0\n",
      "Run 3, iteration: 2/100, moves: 195, cost: 12673.0\n",
      "Run 3, iteration: 3/100, moves: 86, cost: 12604.0\n",
      "Run 3, iteration: 4/100, moves: 41, cost: 12595.0\n",
      "Run 3, iteration: 5/100, moves: 24, cost: 12582.0\n",
      "Run 3, iteration: 6/100, moves: 9, cost: 12582.0\n",
      "Init: initializing centroids\n",
      "Init: initializing clusters\n",
      "Starting iterations...\n",
      "Run 4, iteration: 1/100, moves: 516, cost: 12599.0\n",
      "Run 4, iteration: 2/100, moves: 98, cost: 12597.0\n",
      "Run 4, iteration: 3/100, moves: 1, cost: 12597.0\n",
      "Init: initializing centroids\n",
      "Init: initializing clusters\n",
      "Starting iterations...\n",
      "Run 5, iteration: 1/100, moves: 449, cost: 12745.0\n",
      "Run 5, iteration: 2/100, moves: 175, cost: 12620.0\n",
      "Run 5, iteration: 3/100, moves: 119, cost: 12554.0\n",
      "Run 5, iteration: 4/100, moves: 49, cost: 12550.0\n",
      "Run 5, iteration: 5/100, moves: 8, cost: 12550.0\n",
      "Init: initializing centroids\n",
      "Init: initializing clusters\n",
      "Starting iterations...\n",
      "Run 6, iteration: 1/100, moves: 432, cost: 12762.0\n",
      "Run 6, iteration: 2/100, moves: 189, cost: 12661.0\n",
      "Run 6, iteration: 3/100, moves: 106, cost: 12617.0\n",
      "Run 6, iteration: 4/100, moves: 16, cost: 12617.0\n",
      "Init: initializing centroids\n",
      "Init: initializing clusters\n",
      "Starting iterations...\n",
      "Run 7, iteration: 1/100, moves: 444, cost: 12527.0\n",
      "Run 7, iteration: 2/100, moves: 104, cost: 12479.0\n",
      "Run 7, iteration: 3/100, moves: 13, cost: 12479.0\n",
      "Init: initializing centroids\n",
      "Init: initializing clusters\n",
      "Starting iterations...\n",
      "Run 8, iteration: 1/100, moves: 398, cost: 12760.0\n",
      "Run 8, iteration: 2/100, moves: 175, cost: 12636.0\n",
      "Run 8, iteration: 3/100, moves: 114, cost: 12554.0\n",
      "Run 8, iteration: 4/100, moves: 51, cost: 12554.0\n",
      "Init: initializing centroids\n",
      "Init: initializing clusters\n",
      "Starting iterations...\n",
      "Run 9, iteration: 1/100, moves: 402, cost: 12568.0\n",
      "Run 9, iteration: 2/100, moves: 166, cost: 12529.0\n",
      "Run 9, iteration: 3/100, moves: 33, cost: 12494.0\n",
      "Run 9, iteration: 4/100, moves: 3, cost: 12494.0\n",
      "Init: initializing centroids\n",
      "Init: initializing clusters\n",
      "Starting iterations...\n",
      "Run 10, iteration: 1/100, moves: 482, cost: 12966.0\n",
      "Run 10, iteration: 2/100, moves: 214, cost: 12800.0\n",
      "Run 10, iteration: 3/100, moves: 69, cost: 12773.0\n",
      "Run 10, iteration: 4/100, moves: 12, cost: 12773.0\n",
      "Best run was number 7\n",
      "Init: initializing centroids\n",
      "Init: initializing clusters\n",
      "Starting iterations...\n",
      "Run 1, iteration: 1/100, moves: 341, cost: 12692.0\n",
      "Run 1, iteration: 2/100, moves: 179, cost: 12601.0\n",
      "Run 1, iteration: 3/100, moves: 75, cost: 12557.0\n",
      "Run 1, iteration: 4/100, moves: 17, cost: 12557.0\n",
      "Init: initializing centroids\n",
      "Init: initializing clusters\n",
      "Starting iterations...\n",
      "Run 2, iteration: 1/100, moves: 406, cost: 12517.0\n",
      "Run 2, iteration: 2/100, moves: 77, cost: 12501.0\n",
      "Run 2, iteration: 3/100, moves: 10, cost: 12501.0\n",
      "Init: initializing centroids\n",
      "Init: initializing clusters\n",
      "Starting iterations...\n",
      "Run 3, iteration: 1/100, moves: 381, cost: 12582.0\n",
      "Run 3, iteration: 2/100, moves: 110, cost: 12564.0\n",
      "Run 3, iteration: 3/100, moves: 27, cost: 12535.0\n",
      "Run 3, iteration: 4/100, moves: 22, cost: 12535.0\n",
      "Init: initializing centroids\n",
      "Init: initializing clusters\n",
      "Starting iterations...\n",
      "Run 4, iteration: 1/100, moves: 378, cost: 12445.0\n",
      "Run 4, iteration: 2/100, moves: 162, cost: 12369.0\n",
      "Run 4, iteration: 3/100, moves: 78, cost: 12348.0\n",
      "Run 4, iteration: 4/100, moves: 6, cost: 12348.0\n",
      "Init: initializing centroids\n",
      "Init: initializing clusters\n",
      "Starting iterations...\n",
      "Run 5, iteration: 1/100, moves: 368, cost: 12680.0\n",
      "Run 5, iteration: 2/100, moves: 99, cost: 12651.0\n",
      "Run 5, iteration: 3/100, moves: 30, cost: 12636.0\n",
      "Run 5, iteration: 4/100, moves: 17, cost: 12636.0\n",
      "Init: initializing centroids\n",
      "Init: initializing clusters\n",
      "Starting iterations...\n",
      "Run 6, iteration: 1/100, moves: 444, cost: 12447.0\n",
      "Run 6, iteration: 2/100, moves: 96, cost: 12398.0\n",
      "Run 6, iteration: 3/100, moves: 16, cost: 12398.0\n",
      "Init: initializing centroids\n",
      "Init: initializing clusters\n",
      "Starting iterations...\n",
      "Run 7, iteration: 1/100, moves: 486, cost: 12416.0\n",
      "Run 7, iteration: 2/100, moves: 135, cost: 12380.0\n",
      "Run 7, iteration: 3/100, moves: 9, cost: 12380.0\n",
      "Init: initializing centroids\n",
      "Init: initializing clusters\n",
      "Starting iterations...\n",
      "Run 8, iteration: 1/100, moves: 346, cost: 12842.0\n",
      "Run 8, iteration: 2/100, moves: 179, cost: 12596.0\n",
      "Run 8, iteration: 3/100, moves: 202, cost: 12376.0\n",
      "Run 8, iteration: 4/100, moves: 103, cost: 12341.0\n",
      "Run 8, iteration: 5/100, moves: 50, cost: 12341.0\n",
      "Init: initializing centroids\n",
      "Init: initializing clusters\n",
      "Starting iterations...\n",
      "Run 9, iteration: 1/100, moves: 382, cost: 12476.0\n",
      "Run 9, iteration: 2/100, moves: 201, cost: 12351.0\n",
      "Run 9, iteration: 3/100, moves: 52, cost: 12339.0\n",
      "Run 9, iteration: 4/100, moves: 0, cost: 12339.0\n",
      "Init: initializing centroids\n",
      "Init: initializing clusters\n",
      "Starting iterations...\n",
      "Run 10, iteration: 1/100, moves: 396, cost: 12673.0\n",
      "Run 10, iteration: 2/100, moves: 90, cost: 12662.0\n",
      "Run 10, iteration: 3/100, moves: 4, cost: 12662.0\n",
      "Best run was number 9\n"
     ]
    }
   ],
   "source": [
    "for n_clusters in cluster_range:\n",
    "    km = KModes(n_clusters, init='Huang', n_init=10, verbose=1)\n",
    "    km.fit(cslice)"
   ]
  },
  {
   "cell_type": "code",
   "execution_count": 34,
   "metadata": {},
   "outputs": [
    {
     "data": {
      "image/png": "[encoded data removed]",
      "text/plain": [
       "<Figure size 432x288 with 1 Axes>"
      ]
     },
     "metadata": {},
     "output_type": "display_data"
    }
   ],
   "source": [
    "# Plot costs by number of clusters\n",
    "plt.plot([1, 2, 3, 4, 5, 6, 7, 8, 9], [17513.0, 15391.0, 13934.0, 13515.0, 13148.0, 12890.0, 12668.0, 12479.0, 12339.0])\n",
    "plt.xlabel('Clusters')\n",
    "plt.ylabel('Costs')\n",
    "plt.axis([0, 9, 12000.0, 18000.0])\n",
    "plt.show()"
   ]
  },
  {
   "cell_type": "code",
   "execution_count": 35,
   "metadata": {},
   "outputs": [
    {
     "name": "stdout",
     "output_type": "stream",
     "text": [
      "Init: initializing centroids\n",
      "Init: initializing clusters\n",
      "Starting iterations...\n",
      "Run 1, iteration: 1/100, moves: 353, cost: 14316.0\n",
      "Run 1, iteration: 2/100, moves: 189, cost: 14001.0\n",
      "Run 1, iteration: 3/100, moves: 67, cost: 13971.0\n",
      "Run 1, iteration: 4/100, moves: 9, cost: 13971.0\n",
      "Init: initializing centroids\n",
      "Init: initializing clusters\n",
      "Starting iterations...\n",
      "Run 2, iteration: 1/100, moves: 450, cost: 13950.0\n",
      "Run 2, iteration: 2/100, moves: 101, cost: 13950.0\n",
      "Init: initializing centroids\n",
      "Init: initializing clusters\n",
      "Starting iterations...\n",
      "Run 3, iteration: 1/100, moves: 426, cost: 14200.0\n",
      "Run 3, iteration: 2/100, moves: 184, cost: 13956.0\n",
      "Run 3, iteration: 3/100, moves: 11, cost: 13956.0\n",
      "Init: initializing centroids\n",
      "Init: initializing clusters\n",
      "Starting iterations...\n",
      "Run 4, iteration: 1/100, moves: 416, cost: 13956.0\n",
      "Run 4, iteration: 2/100, moves: 83, cost: 13943.0\n",
      "Run 4, iteration: 3/100, moves: 4, cost: 13943.0\n",
      "Init: initializing centroids\n",
      "Init: initializing clusters\n",
      "Starting iterations...\n",
      "Run 5, iteration: 1/100, moves: 243, cost: 13963.0\n",
      "Run 5, iteration: 2/100, moves: 41, cost: 13961.0\n",
      "Run 5, iteration: 3/100, moves: 6, cost: 13961.0\n",
      "Init: initializing centroids\n",
      "Init: initializing clusters\n",
      "Starting iterations...\n",
      "Run 6, iteration: 1/100, moves: 413, cost: 14013.0\n",
      "Run 6, iteration: 2/100, moves: 125, cost: 13956.0\n",
      "Run 6, iteration: 3/100, moves: 6, cost: 13956.0\n",
      "Init: initializing centroids\n",
      "Init: initializing clusters\n",
      "Starting iterations...\n",
      "Run 7, iteration: 1/100, moves: 281, cost: 13941.0\n",
      "Run 7, iteration: 2/100, moves: 47, cost: 13927.0\n",
      "Run 7, iteration: 3/100, moves: 4, cost: 13927.0\n",
      "Init: initializing centroids\n",
      "Init: initializing clusters\n",
      "Starting iterations...\n",
      "Run 8, iteration: 1/100, moves: 346, cost: 15001.0\n",
      "Run 8, iteration: 2/100, moves: 147, cost: 14962.0\n",
      "Run 8, iteration: 3/100, moves: 16, cost: 14962.0\n",
      "Init: initializing centroids\n",
      "Init: initializing clusters\n",
      "Starting iterations...\n",
      "Run 9, iteration: 1/100, moves: 387, cost: 14369.0\n",
      "Run 9, iteration: 2/100, moves: 228, cost: 14030.0\n",
      "Run 9, iteration: 3/100, moves: 64, cost: 13966.0\n",
      "Run 9, iteration: 4/100, moves: 26, cost: 13966.0\n",
      "Init: initializing centroids\n",
      "Init: initializing clusters\n",
      "Starting iterations...\n",
      "Run 10, iteration: 1/100, moves: 358, cost: 13968.0\n",
      "Run 10, iteration: 2/100, moves: 40, cost: 13956.0\n",
      "Run 10, iteration: 3/100, moves: 24, cost: 13944.0\n",
      "Run 10, iteration: 4/100, moves: 9, cost: 13944.0\n",
      "Best run was number 7\n",
      "[[10004 10024 10029 10031     2     2 10052     2 10657 10725 10726 10729\n",
      "  10733 10740 10744 10748     1     1     1     1     1     2     2     1\n",
      "      1 10787     1     1     1     2     1     1     2     1     2     1]\n",
      " [10001 10024 10027 10031     3     2 10052     2 10657 10724 10726 10730\n",
      "  10733 10740 10744 10749     1     1     1     1     1     1     1     1\n",
      "      1 10787     1     1     1     1     1     1     1     1     1     1]\n",
      " [10002 10023 10026 10031     4     3 10052     1 10657 10722 10726 10729\n",
      "  10733 10737 10741 10745     1     1     1     1     1     1     1     1\n",
      "      1 10787     1     1     1     1     1     1     1     1     1     0]\n",
      " [10001 10024 10029 10031     3     2 10052     1 10657 10724 10727 10730\n",
      "  10733 10740 10744 10749     1     1     2     2     1     2     2     1\n",
      "      1 10787     2     1     1     2     1     1     2     2     2     0]\n",
      " [10004 10024 10029 10031     2     1 10052     1 10656 10723 10727 10730\n",
      "  10733 10740 10744 10750     2     2     2     2     2     1     2     2\n",
      "      1 10788     1     1     1     1     1     1     1     1     1     1]\n",
      " [10001 10024 10030 10031     3     1 10052     1 10657 10724 10726 10729\n",
      "  10733 10738 10742 10749     1     1     1     1     1     2     2     1\n",
      "      1 10787     2     1     1     2     1     1     2     1     2     1]\n",
      " [10001 10023 10026 10031     4     2 10052     1 10657 10723 10727 10730\n",
      "  10734 10738 10742 10746     1     1     1     1     1     1     1     1\n",
      "      1 10788     1     1     1     1     1     1     1     1     1     1]\n",
      " [10004 10023 10030 10031     2     1 10054     3 10656 10723 10726 10730\n",
      "  10733 10740 10744 10749     1     1     2     1     1     2     2     1\n",
      "      1 10787     2     1     1     2     1     1     2     1     1     1]\n",
      " [10004 10024 10029 10031     4     2 10052     3 10657 10723 10727 10730\n",
      "  10734 10740 10744 10750     2     2     2     2     2     1     1     2\n",
      "      2 10788     2     2     2     1     2     2     1     1     1     1]]\n"
     ]
    }
   ],
   "source": [
    "# Calculate kmodes for 3 clusters\n",
    "km3 = KModes(n_clusters=3, init='Huang', n_init=10, verbose=1)\n",
    "clusters = km3.fit_predict(cslice)\n",
    "print(km.cluster_centroids_)"
   ]
  },
  {
   "cell_type": "code",
   "execution_count": 36,
   "metadata": {},
   "outputs": [
    {
     "data": {
      "text/plain": [
       "array([[10004, 10024, 10029, 10031,     2,     2, 10052,     2, 10657,\n",
       "        10725, 10726, 10729, 10733, 10740, 10744, 10748,     1,     1,\n",
       "            1,     1,     1,     2,     2,     1,     1, 10787,     1,\n",
       "            1,     1,     2,     1,     1,     2,     1,     2,     1],\n",
       "       [10001, 10024, 10027, 10031,     3,     2, 10052,     2, 10657,\n",
       "        10724, 10726, 10730, 10733, 10740, 10744, 10749,     1,     1,\n",
       "            1,     1,     1,     1,     1,     1,     1, 10787,     1,\n",
       "            1,     1,     1,     1,     1,     1,     1,     1,     1],\n",
       "       [10002, 10023, 10026, 10031,     4,     3, 10052,     1, 10657,\n",
       "        10722, 10726, 10729, 10733, 10737, 10741, 10745,     1,     1,\n",
       "            1,     1,     1,     1,     1,     1,     1, 10787,     1,\n",
       "            1,     1,     1,     1,     1,     1,     1,     1,     0],\n",
       "       [10001, 10024, 10029, 10031,     3,     2, 10052,     1, 10657,\n",
       "        10724, 10727, 10730, 10733, 10740, 10744, 10749,     1,     1,\n",
       "            2,     2,     1,     2,     2,     1,     1, 10787,     2,\n",
       "            1,     1,     2,     1,     1,     2,     2,     2,     0],\n",
       "       [10004, 10024, 10029, 10031,     2,     1, 10052,     1, 10656,\n",
       "        10723, 10727, 10730, 10733, 10740, 10744, 10750,     2,     2,\n",
       "            2,     2,     2,     1,     2,     2,     1, 10788,     1,\n",
       "            1,     1,     1,     1,     1,     1,     1,     1,     1],\n",
       "       [10001, 10024, 10030, 10031,     3,     1, 10052,     1, 10657,\n",
       "        10724, 10726, 10729, 10733, 10738, 10742, 10749,     1,     1,\n",
       "            1,     1,     1,     2,     2,     1,     1, 10787,     2,\n",
       "            1,     1,     2,     1,     1,     2,     1,     2,     1],\n",
       "       [10001, 10023, 10026, 10031,     4,     2, 10052,     1, 10657,\n",
       "        10723, 10727, 10730, 10734, 10738, 10742, 10746,     1,     1,\n",
       "            1,     1,     1,     1,     1,     1,     1, 10788,     1,\n",
       "            1,     1,     1,     1,     1,     1,     1,     1,     1],\n",
       "       [10004, 10023, 10030, 10031,     2,     1, 10054,     3, 10656,\n",
       "        10723, 10726, 10730, 10733, 10740, 10744, 10749,     1,     1,\n",
       "            2,     1,     1,     2,     2,     1,     1, 10787,     2,\n",
       "            1,     1,     2,     1,     1,     2,     1,     1,     1],\n",
       "       [10004, 10024, 10029, 10031,     4,     2, 10052,     3, 10657,\n",
       "        10723, 10727, 10730, 10734, 10740, 10744, 10750,     2,     2,\n",
       "            2,     2,     2,     1,     1,     2,     2, 10788,     2,\n",
       "            2,     2,     1,     2,     2,     1,     1,     1,     1]],\n",
       "      dtype=int64)"
      ]
     },
     "execution_count": 36,
     "metadata": {},
     "output_type": "execute_result"
    }
   ],
   "source": [
    "centroids = km.cluster_centroids_\n",
    "centroids"
   ]
  },
  {
   "cell_type": "code",
   "execution_count": 42,
   "metadata": {},
   "outputs": [],
   "source": [
    "# Next step: Explore clusters, visualize and interpret results"
   ]
  }
 ],
 "metadata": {
  "kernelspec": {
   "display_name": "Python 3",
   "language": "python",
   "name": "python3"
  },
  "language_info": {
   "codemirror_mode": {
    "name": "ipython",
    "version": 3
   },
   "file_extension": ".py",
   "mimetype": "text/x-python",
   "name": "python",
   "nbconvert_exporter": "python",
   "pygments_lexer": "ipython3",
   "version": "3.6.5"
  }
 },
 "nbformat": 4,
 "nbformat_minor": 2
}
